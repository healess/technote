{
 "cells": [
  {
   "cell_type": "markdown",
   "metadata": {},
   "source": [
    "# 챗봇 만들기(Char+CNN / Bi-LSTM)"
   ]
  },
  {
   "cell_type": "code",
   "execution_count": 1,
   "metadata": {
    "collapsed": false
   },
   "outputs": [],
   "source": [
    "#챗봇에서 서버와 주고받을 REST format \n",
    "request = {\n",
    "            \"intent_id\" : \"\",\n",
    "            \"input_data\":\"피자 주문 할께\", \n",
    "            \"request_type\" : \"text\",\n",
    "            \"story_slot_entity\" : {},\n",
    "            \"output_data\" : \"\"\n",
    "          }\n"
   ]
  },
  {
   "cell_type": "markdown",
   "metadata": {},
   "source": [
    "# 기본 Data Set"
   ]
  },
  {
   "cell_type": "code",
   "execution_count": null,
   "metadata": {
    "collapsed": true
   },
   "outputs": [],
   "source": [
    "\n",
    "intent_id = \"\"\n",
    "input_data = \"피자 주문 할께\" #채팅에서 입력\n",
    "request_type = \"text\" \n",
    "story_slot_entity = {}\n",
    "output_data = \"\"\n",
    "\n",
    "voc_list = []\n",
    "\n",
    "intent_list = {\n",
    "    \"주문\" : [\"주문\",\"배달\"],\n",
    "    \"예약\" : [\"예약\",\"잡아줘\"],\n",
    "    \"정보\" : [\"정보\", \"알려\"]\n",
    "}\n",
    "\n",
    "ner_list = []\n",
    "\n",
    "story_slot_entity = {\"주문\": {\"메뉴\" : None, \"사이즈\" : None, \"음료\" : None},\n",
    "                     \"예약\": {\"장소\" : None, \"날짜\" : None},\n",
    "                     \"정보\": {\"대상\" : None}                    \n",
    "                    }\n",
    "menu_list = ['피자','햄버거','음료']\n"
   ]
  },
  {
   "cell_type": "markdown",
   "metadata": {},
   "source": [
    "# 형태소 분석"
   ]
  },
  {
   "cell_type": "code",
   "execution_count": 50,
   "metadata": {
    "collapsed": false
   },
   "outputs": [],
   "source": [
    "#형태소 분석 mecab사용\n",
    "from konlpy.tag import Mecab\n",
    "mecab = Mecab('/usr/local/lib/mecab/dic/mecab-ko-dic') #고유명사는 별도 NNP 등록\n",
    "preprocessed = mecab.pos(request.get('input_data'))"
   ]
  },
  {
   "cell_type": "code",
   "execution_count": 51,
   "metadata": {
    "collapsed": false
   },
   "outputs": [
    {
     "name": "stdout",
     "output_type": "stream",
     "text": [
      "[('피자', 'NNG'), ('주문', 'NNG'), ('할께', 'XSV+EC')]\n"
     ]
    }
   ],
   "source": [
    "print (preprocessed)"
   ]
  },
  {
   "cell_type": "markdown",
   "metadata": {},
   "source": [
    "# Intent 도출"
   ]
  },
  {
   "cell_type": "code",
   "execution_count": 58,
   "metadata": {
    "collapsed": true
   },
   "outputs": [],
   "source": [
    "intent_id =\"주문\"\n",
    "slot_value = story_slot_entity.get(\"주문\")"
   ]
  },
  {
   "cell_type": "markdown",
   "metadata": {},
   "source": [
    "# NER 도출"
   ]
  },
  {
   "cell_type": "code",
   "execution_count": null,
   "metadata": {
    "collapsed": true
   },
   "outputs": [],
   "source": []
  },
  {
   "cell_type": "markdown",
   "metadata": {},
   "source": [
    "# Dictionary 기반 Slot 구성"
   ]
  },
  {
   "cell_type": "code",
   "execution_count": 53,
   "metadata": {
    "collapsed": false
   },
   "outputs": [],
   "source": [
    "\n",
    "\n",
    "for pos_tag in preprocessed:\n",
    "    if (pos_tag[1] in ['NNG', 'NNP','SL']): #명사, 영어만 사용\n",
    "        if pos_tag[0] in menu_list:\n",
    "            slot_value[\"메뉴\"] = pos_tag[0]"
   ]
  },
  {
   "cell_type": "code",
   "execution_count": 54,
   "metadata": {
    "collapsed": false
   },
   "outputs": [
    {
     "name": "stdout",
     "output_type": "stream",
     "text": [
      "{'예약': {'장소': None, '날짜': None}, '주문': {'사이즈': None, '메뉴': '피자', '음료': None}, '정보': {'대상': None}}\n"
     ]
    }
   ],
   "source": [
    "print (story_slot_entity)"
   ]
  },
  {
   "cell_type": "markdown",
   "metadata": {},
   "source": [
    "# 빈 Slot 검색"
   ]
  },
  {
   "cell_type": "code",
   "execution_count": 55,
   "metadata": {
    "collapsed": false
   },
   "outputs": [
    {
     "name": "stdout",
     "output_type": "stream",
     "text": [
      "음료 을 선택해주세요\n"
     ]
    }
   ],
   "source": [
    "\n",
    "if(None in slot_value.values()): #빈 Slot 출력\n",
    "    for key in slot_value.keys():\n",
    "        if(slot_value[key] is None):\n",
    "            output_data = key + \" 을 선택해주세요\"\n",
    "            \n",
    "print (output_data)"
   ]
  },
  {
   "cell_type": "code",
   "execution_count": 56,
   "metadata": {
    "collapsed": true
   },
   "outputs": [],
   "source": [
    "response = {\n",
    "            \"intent_id\" : \"\",\n",
    "            \"input_data\":\"피자 주문 할께\", \n",
    "            \"request_type\" : \"text\",\n",
    "            \"story_slot_entity\" : {},\n",
    "            \"output_data\" : \"\"\n",
    "          }\n",
    "response[\"output_data\"]= output_data"
   ]
  },
  {
   "cell_type": "code",
   "execution_count": 57,
   "metadata": {
    "collapsed": false
   },
   "outputs": [
    {
     "name": "stdout",
     "output_type": "stream",
     "text": [
      "{'intent_id': '', 'input_data': '피자 주문 할께', 'output_data': '음료 을 선택해주세요', 'request_type': 'text', 'story_slot_entity': {}}\n"
     ]
    }
   ],
   "source": [
    "print (response)"
   ]
  },
  {
   "cell_type": "code",
   "execution_count": null,
   "metadata": {
    "collapsed": true
   },
   "outputs": [],
   "source": []
  }
 ],
 "metadata": {
  "anaconda-cloud": {},
  "kernelspec": {
   "display_name": "Python [conda root]",
   "language": "python",
   "name": "conda-root-py"
  },
  "language_info": {
   "codemirror_mode": {
    "name": "ipython",
    "version": 3
   },
   "file_extension": ".py",
   "mimetype": "text/x-python",
   "name": "python",
   "nbconvert_exporter": "python",
   "pygments_lexer": "ipython3",
   "version": "3.5.2"
  }
 },
 "nbformat": 4,
 "nbformat_minor": 1
}
