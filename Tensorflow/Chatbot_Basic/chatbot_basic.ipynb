{
 "cells": [
  {
   "cell_type": "markdown",
   "metadata": {},
   "source": [
    "# Why Chatbot\n",
    "* 앱을 새로 깔 필요가 없음\n",
    "* 앱을 깔필요가 없으니 배울 것도 없음\n",
    "* 편한 UX - 그냥 텍스트 치면됨\n",
    "* 즉각적인 Feedback\n",
    "\n",
    "## Seq2Seq를 활용한 간단한 Q/A 봇을 만들어보자\n",
    "![이미지](https://www.tensorflow.org/images/basic_seq2seq.png)\n",
    "* Python 3.5, Tensorflow 1.1, Konlpy (Mecab),Word2Vec (Gensim), matplotlib (Graph)"
   ]
  },
  {
   "cell_type": "code",
   "execution_count": 177,
   "metadata": {
    "collapsed": false
   },
   "outputs": [
    {
     "data": {
      "text/plain": [
       "'1.1.0'"
      ]
     },
     "execution_count": 177,
     "metadata": {},
     "output_type": "execute_result"
    }
   ],
   "source": [
    "# -*- coding: utf-8 -*-\n",
    "import tensorflow as tf\n",
    "import numpy as np\n",
    "import matplotlib.pyplot as plt\n",
    "from konlpy.tag import Mecab\n",
    "\n",
    "tf.__version__"
   ]
  },
  {
   "cell_type": "code",
   "execution_count": 178,
   "metadata": {
    "collapsed": false
   },
   "outputs": [
    {
     "name": "stdout",
     "output_type": "stream",
     "text": [
      "Char List : {'X': 4, 'Z': 6, 'W': 3, 'B': 1, 'A': 0, 'Y': 5, 'C': 2, ']': 8, '[': 7}\n",
      "Char Size : 9\n"
     ]
    }
   ],
   "source": [
    "# Vector을 위한 선언\n",
    "char_array = [c for c in \"ABCWXYZ[]\"]\n",
    "\n",
    "#vocab = (\" $%'()+,-./0123456789:;=?ABCDEFGHIJKLMNOPQRSTUVWXYZ\"\n",
    "#           \"\\\\^_abcdefghijklmnopqrstuvwxyz{|}\")\n",
    "\n",
    "# enumerate 방법 사용 index : value 정렬\n",
    "num_dic = {n: i for i, n in enumerate(char_array)}\n",
    "[i for i in num_dic]\n",
    "dic_len = len(num_dic)\n",
    "\n",
    "# 질문에 따른 답변 정의\n",
    "train_data = [['ABC', 'WXYZ']]\n",
    "\n",
    "print (\"Char List : \" + str(num_dic))\n",
    "print (\"Char Size : \" + str(dic_len))"
   ]
  },
  {
   "cell_type": "markdown",
   "metadata": {},
   "source": [
    "### One Hot Encodeing\n",
    "* ABCWXYZ[]의 정렬하여 1의 값으로 정렬 <br>\n",
    "A [1, 0, 0, 0, 0, 0, 0, 0, 0, 0] <br>\n",
    "B [0, 1, 0, 0, 0, 0, 0, 0, 0, 0] <br>\n",
    "C [0, 0, 1, 0, 0, 0, 0, 0, 0, 0] <br>"
   ]
  },
  {
   "cell_type": "code",
   "execution_count": 179,
   "metadata": {
    "collapsed": false
   },
   "outputs": [
    {
     "name": "stdout",
     "output_type": "stream",
     "text": [
      "[array([[ 1.,  0.,  0.,  0.,  0.,  0.,  0.,  0.,  0.],\n",
      "       [ 0.,  1.,  0.,  0.,  0.,  0.,  0.,  0.,  0.],\n",
      "       [ 0.,  0.,  1.,  0.,  0.,  0.,  0.,  0.,  0.]])]\n",
      "[array([[ 0.,  0.,  0.,  0.,  0.,  0.,  0.,  1.,  0.],\n",
      "       [ 0.,  0.,  0.,  1.,  0.,  0.,  0.,  0.,  0.],\n",
      "       [ 0.,  0.,  0.,  0.,  1.,  0.,  0.,  0.,  0.],\n",
      "       [ 0.,  0.,  0.,  0.,  0.,  1.,  0.,  0.,  0.],\n",
      "       [ 0.,  0.,  0.,  0.,  0.,  0.,  1.,  0.,  0.]])]\n",
      "[[3, 4, 5, 6, 8]]\n"
     ]
    },
    {
     "data": {
      "text/plain": [
       "([array([[ 1.,  0.,  0.,  0.,  0.,  0.,  0.,  0.,  0.],\n",
       "         [ 0.,  1.,  0.,  0.,  0.,  0.,  0.,  0.,  0.],\n",
       "         [ 0.,  0.,  1.,  0.,  0.,  0.,  0.,  0.,  0.]])],\n",
       " [array([[ 0.,  0.,  0.,  0.,  0.,  0.,  0.,  1.,  0.],\n",
       "         [ 0.,  0.,  0.,  1.,  0.,  0.,  0.,  0.,  0.],\n",
       "         [ 0.,  0.,  0.,  0.,  1.,  0.,  0.,  0.,  0.],\n",
       "         [ 0.,  0.,  0.,  0.,  0.,  1.,  0.,  0.,  0.],\n",
       "         [ 0.,  0.,  0.,  0.,  0.,  0.,  1.,  0.,  0.]])],\n",
       " [[3, 4, 5, 6, 8]])"
      ]
     },
     "execution_count": 179,
     "metadata": {},
     "output_type": "execute_result"
    }
   ],
   "source": [
    "def make_train_data(train_data):\n",
    "    input_batch = []\n",
    "    output_batch = []\n",
    "    target_batch = []\n",
    "\n",
    "    for seq in train_data:\n",
    "        # 인코더 셀의 입력값. 입력단어의 글자들을 한글자씩 떼어 배열로 만든다.\n",
    "        input = [num_dic[n] for n in seq[0]]\n",
    "        # 디코더 셀의 입력값. 시작을 나타내는 [ 심볼을 맨 앞에 붙여준다.\n",
    "        output = [num_dic[n] for n in ('[' + seq[1])]\n",
    "        # 학습을 위해 비교할 디코더 셀의 출력값. 끝나는 것을 알려주기 위해 마지막에 ] 를 붙인다.\n",
    "        target = [num_dic[n] for n in (seq[1] + ']')]\n",
    "        input_batch.append(np.eye(dic_len)[input])\n",
    "        output_batch.append(np.eye(dic_len)[output])\n",
    "        # 출력값만 one-hot 인코딩이 아님 (sparse_softmax_cross_entropy_with_logits 사용)\n",
    "        target_batch.append(target)\n",
    "    print(input_batch)\n",
    "    print(output_batch)\n",
    "    print(target_batch)\n",
    "    return input_batch, output_batch, target_batch\n",
    "# input_batch[0] = [[ 0.  0.  0.  1.  0.  0.  0.  0.  0.  0.  0.]]\n",
    "# output_batch[0] = [[ 1.  0.  0.  0.  0.  0.  0.  0.  0.  0.  0.] \n",
    "#                   [ 0.  0.  0.  0.  1.  0.  0.  0.  0.  0.  0.]] \n",
    "# target_batch = <class 'list'>: [[4, 1], [6, 1], [8, 1], [10, 1]]\n",
    "\n",
    "make_train_data(train_data)"
   ]
  },
  {
   "cell_type": "markdown",
   "metadata": {},
   "source": [
    "### 모델 저장을 위한 함수"
   ]
  },
  {
   "cell_type": "code",
   "execution_count": 180,
   "metadata": {
    "collapsed": true
   },
   "outputs": [],
   "source": [
    "file_path = './model'\n",
    "def model_file(file_path, flag):\n",
    "    if(flag):\n",
    "        import os\n",
    "        saver = tf.train.Saver(tf.global_variables())\n",
    "\n",
    "        if(not os.path.exists(file_path)):\n",
    "            os.makedirs(file_path)\n",
    "        saver.save(sess, ''.join(file_path + \"/.model\"))\n",
    "        print(\"Model Saved\")\n",
    "    else:\n",
    "        import shutil\n",
    "        try:\n",
    "            shutil.rmtree(file_path)\n",
    "            print(\"Model Deleted\")\n",
    "        except OSError as e:\n",
    "            if e.errno == 2:\n",
    "                # 파일이나 디렉토리가 없음!\n",
    "                print ('No such file or directory to remove')\n",
    "                pass\n",
    "            else:\n",
    "                raise"
   ]
  },
  {
   "cell_type": "markdown",
   "metadata": {},
   "source": [
    "### Tensorflow Graph 생성"
   ]
  },
  {
   "cell_type": "code",
   "execution_count": 181,
   "metadata": {
    "collapsed": false
   },
   "outputs": [
    {
     "name": "stdout",
     "output_type": "stream",
     "text": [
      "[array([[ 1.,  0.,  0.,  0.,  0.,  0.,  0.,  0.,  0.],\n",
      "       [ 0.,  1.,  0.,  0.,  0.,  0.,  0.,  0.,  0.],\n",
      "       [ 0.,  0.,  1.,  0.,  0.,  0.,  0.,  0.,  0.]])]\n",
      "[array([[ 0.,  0.,  0.,  0.,  0.,  0.,  0.,  1.,  0.],\n",
      "       [ 0.,  0.,  0.,  1.,  0.,  0.,  0.,  0.,  0.],\n",
      "       [ 0.,  0.,  0.,  0.,  1.,  0.,  0.,  0.,  0.],\n",
      "       [ 0.,  0.,  0.,  0.,  0.,  1.,  0.,  0.,  0.],\n",
      "       [ 0.,  0.,  0.,  0.,  0.,  0.,  1.,  0.,  0.]])]\n",
      "[[3, 4, 5, 6, 8]]\n"
     ]
    }
   ],
   "source": [
    "# 옵션 설정\n",
    "learning_rate = 0.01\n",
    "n_hidden = 128\n",
    "total_epoch = 100\n",
    "# one hot 위한 사이즈\n",
    "n_class = n_input = dic_len\n",
    "\n",
    "# 그래프 초기화 \n",
    "tf.reset_default_graph()\n",
    "# Seq2Seq 모델은 인코더의 입력과 디코더의 입력의 형식이 같다.\n",
    "enc_input = tf.placeholder(tf.float32, [None, None, n_input])\n",
    "dec_input = tf.placeholder(tf.float32, [None, None, n_input])\n",
    "targets = tf.placeholder(tf.int64, [None, None])\n",
    "\n",
    "# 인코더\n",
    "with tf.variable_scope(\"encoder\"):\n",
    "    enc_cell = tf.contrib.rnn.BasicLSTMCell(n_hidden)\n",
    "    enc_cell = tf.contrib.rnn.DropoutWrapper(enc_cell, output_keep_prob=0.5)\n",
    "    # scope.reuse_variables()\n",
    "    outputs, enc_states = tf.nn.dynamic_rnn(enc_cell, enc_input,\n",
    "                                            dtype=tf.float32)\n",
    "\n",
    "# 디코더\n",
    "with tf.variable_scope(\"decoder\"):\n",
    "    dec_cell = tf.contrib.rnn.BasicLSTMCell(n_hidden)\n",
    "    dec_cell = tf.contrib.rnn.DropoutWrapper(dec_cell, output_keep_prob=0.5)\n",
    "    # Seq2Seq 모델 구현\n",
    "    outputs, dec_states = tf.nn.dynamic_rnn(dec_cell, dec_input,\n",
    "                                            initial_state=enc_states,\n",
    "                                            dtype=tf.float32)\n",
    "\n",
    "model = tf.layers.dense(outputs, n_class, activation=None)\n",
    "\n",
    "cost = tf.reduce_mean(\n",
    "    tf.nn.sparse_softmax_cross_entropy_with_logits(\n",
    "        logits=model, labels=targets))\n",
    "\n",
    "optimizer = tf.train.AdamOptimizer(learning_rate).minimize(cost)\n",
    "\n",
    "sess = tf.Session()\n",
    "sess.run(tf.global_variables_initializer())\n",
    "input_batch, output_batch, target_batch = make_train_data(train_data)\n",
    "\n"
   ]
  },
  {
   "cell_type": "markdown",
   "metadata": {},
   "source": [
    "### 학습결과 출력"
   ]
  },
  {
   "cell_type": "code",
   "execution_count": 182,
   "metadata": {
    "collapsed": false
   },
   "outputs": [
    {
     "data": {
      "image/png": "[encoded data removed]",
      "text/plain": [
       "<matplotlib.figure.Figure at 0x7f671c829470>"
      ]
     },
     "metadata": {},
     "output_type": "display_data"
    }
   ],
   "source": [
    "def display_train():\n",
    "    plot_X = []\n",
    "    plot_Y = []\n",
    "    for epoch in range(total_epoch):\n",
    "        _, loss = sess.run([optimizer, cost],\n",
    "                           feed_dict={enc_input: input_batch,\n",
    "                                      dec_input: output_batch,\n",
    "                                      targets: target_batch})\n",
    "        plot_X.append(epoch + 1)\n",
    "        plot_Y.append(loss)\n",
    "    # Graphic display\n",
    "    plt.plot(plot_X, plot_Y, label='cost')\n",
    "    plt.show()\n",
    "\n",
    "display_train()"
   ]
  },
  {
   "cell_type": "markdown",
   "metadata": {},
   "source": [
    "### 예측 수행"
   ]
  },
  {
   "cell_type": "code",
   "execution_count": 183,
   "metadata": {
    "collapsed": false
   },
   "outputs": [
    {
     "name": "stdout",
     "output_type": "stream",
     "text": [
      "Model Saved\n",
      "[array([[ 1.,  0.,  0.,  0.,  0.,  0.,  0.,  0.,  0.],\n",
      "       [ 0.,  1.,  0.,  0.,  0.,  0.,  0.,  0.,  0.],\n",
      "       [ 0.,  0.,  1.,  0.,  0.,  0.,  0.,  0.,  0.]])]\n",
      "[array([[ 0.,  0.,  0.,  0.,  0.,  0.,  0.,  1.,  0.],\n",
      "       [ 1.,  0.,  0.,  0.,  0.,  0.,  0.,  0.,  0.],\n",
      "       [ 1.,  0.,  0.,  0.,  0.,  0.,  0.,  0.,  0.],\n",
      "       [ 1.,  0.,  0.,  0.,  0.,  0.,  0.,  0.,  0.],\n",
      "       [ 1.,  0.,  0.,  0.,  0.,  0.,  0.,  0.,  0.]])]\n",
      "[[0, 0, 0, 0, 8]]\n",
      "Predict : ABC -> ['W', 'X', 'Y', 'Z', ']']\n",
      "Model Deleted\n"
     ]
    }
   ],
   "source": [
    "# 최적화가 끝난 뒤, 변수를 저장합니다.\n",
    "model_file(file_path, True)\n",
    "\n",
    "# 단어를 입력받아 번역 단어를 예측하고 디코딩하는 함수\n",
    "def predict(word):\n",
    "    input_batch, output_batch, target_batch = make_train_data([word])\n",
    "    # 결과가 [batch size, time step, input] 으로 나오기 때문에,\n",
    "    # 2번째 차원인 input 차원을 argmax 로 취해 가장 확률이 높은 글자를 예측 값으로 만든다.\n",
    "    prediction = tf.argmax(model, 2)\n",
    "    result = sess.run(prediction,\n",
    "                      feed_dict={enc_input: input_batch,\n",
    "                                 dec_input: output_batch,\n",
    "                                 targets: target_batch})\n",
    "    # 결과 값인 숫자의 인덱스에 해당하는 글자를 가져와 글자 배열을 만든다.\n",
    "    decoded = [char_array[i] for i in result[0]]\n",
    "    return decoded\n",
    "\n",
    "print (\"Predict : ABC -> \" + str(predict(['ABC','AAAA'])))\n",
    "\n",
    "model_file(file_path, False)"
   ]
  },
  {
   "cell_type": "code",
   "execution_count": null,
   "metadata": {
    "collapsed": true
   },
   "outputs": [],
   "source": []
  }
 ],
 "metadata": {
  "anaconda-cloud": {},
  "kernelspec": {
   "display_name": "Python [conda root]",
   "language": "python",
   "name": "conda-root-py"
  },
  "language_info": {
   "codemirror_mode": {
    "name": "ipython",
    "version": 3
   },
   "file_extension": ".py",
   "mimetype": "text/x-python",
   "name": "python",
   "nbconvert_exporter": "python",
   "pygments_lexer": "ipython3",
   "version": "3.5.2"
  }
 },
 "nbformat": 4,
 "nbformat_minor": 1
}
