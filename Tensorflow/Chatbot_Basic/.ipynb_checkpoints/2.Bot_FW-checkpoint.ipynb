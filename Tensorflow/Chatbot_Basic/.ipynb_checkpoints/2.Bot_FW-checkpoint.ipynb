{
 "cells": [
  {
   "cell_type": "code",
   "execution_count": 14,
   "metadata": {
    "collapsed": true
   },
   "outputs": [],
   "source": [
    "request = {\n",
    "            \"intent_id\" : \"\",\n",
    "            \"input_data\":\"피자 주문 할께\",\n",
    "            \"request_type\" : \"text\",\n",
    "            \"story_slot_entity\" : {},\n",
    "            \"output_data\" : \"\"\n",
    "          }"
   ]
  },
  {
   "cell_type": "code",
   "execution_count": 15,
   "metadata": {
    "collapsed": false
   },
   "outputs": [],
   "source": [
    "from konlpy.tag import Mecab\n",
    "mecab = Mecab('/usr/local/lib/mecab/dic/mecab-ko-dic')\n",
    "preprocessed = mecab.pos(request.get('input_data'))"
   ]
  },
  {
   "cell_type": "code",
   "execution_count": 16,
   "metadata": {
    "collapsed": false
   },
   "outputs": [
    {
     "name": "stdout",
     "output_type": "stream",
     "text": [
      "[('피자', 'NNG'), ('주문', 'NNG'), ('할께', 'XSV+EC')]\n"
     ]
    }
   ],
   "source": [
    "print (preprocessed)"
   ]
  },
  {
   "cell_type": "code",
   "execution_count": 19,
   "metadata": {
    "collapsed": false
   },
   "outputs": [],
   "source": [
    "menu_list = ['피자','햄버거','음료']\n",
    "intent_list = {\n",
    "    \"주문\":\"주문\",\n",
    "    \"보내\":\"주문\",\n",
    "    \"배달\":\"주문\"\n",
    "}\n",
    "\n",
    "story_slot_entity = {\"메뉴\":\"\",\"사이즈\":\"\",\"음료\":\"\"}\n",
    "\n",
    "for pos_tag in preprocessed:\n",
    "    if (pos_tag[1] in ['NNG', 'NNP','SL']): #명사, 영어\n",
    "        if pos_tag[0] in menu_list:\n",
    "            story_slot_entity[\"메뉴\"] = \"피자\""
   ]
  },
  {
   "cell_type": "code",
   "execution_count": 20,
   "metadata": {
    "collapsed": false
   },
   "outputs": [
    {
     "name": "stdout",
     "output_type": "stream",
     "text": [
      "{'메뉴': '피자', '사이즈': '', '음료': ''}\n"
     ]
    }
   ],
   "source": [
    "print (story_slot_entity)"
   ]
  },
  {
   "cell_type": "code",
   "execution_count": null,
   "metadata": {
    "collapsed": true
   },
   "outputs": [],
   "source": []
  }
 ],
 "metadata": {
  "anaconda-cloud": {},
  "kernelspec": {
   "display_name": "Python [conda root]",
   "language": "python",
   "name": "conda-root-py"
  },
  "language_info": {
   "codemirror_mode": {
    "name": "ipython",
    "version": 3
   },
   "file_extension": ".py",
   "mimetype": "text/x-python",
   "name": "python",
   "nbconvert_exporter": "python",
   "pygments_lexer": "ipython3",
   "version": "3.5.2"
  }
 },
 "nbformat": 4,
 "nbformat_minor": 1
}
