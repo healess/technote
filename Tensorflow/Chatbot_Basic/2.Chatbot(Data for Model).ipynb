{
 "cells": [
  {
   "cell_type": "markdown",
   "metadata": {},
   "source": [
    "# Intent 와 NER 모델을 만들기 위한 Data의 구성 방법"
   ]
  },
  {
   "cell_type": "code",
   "execution_count": 204,
   "metadata": {
    "collapsed": false
   },
   "outputs": [
    {
     "name": "stdout",
     "output_type": "stream",
     "text": [
      "243\n"
     ]
    }
   ],
   "source": [
    "train_data_order = ['판교에 지금 피자 주문해줘']\n",
    "train_data_reserve = ['오늘 날짜에 호텔 예약 해줄레']\n",
    "train_data_info = ['오늘 날짜에 판교 여행 정보 알려줘']\n",
    "\n",
    "dict_entity = {\n",
    "    'date' : ['오늘','내일','모래'],\n",
    "    'loc' : ['판교','야탑','서현'],\n",
    "    'menu' : ['피자','햄버거','치킨'],\n",
    "    'hotel' : ['호텔','여관','민박'],\n",
    "    'travel' : ['여행','놀러갈','구경']\n",
    "}\n",
    "\n",
    "length = 1\n",
    "for key in list(dict_entity.keys()):\n",
    "    length = length * len(dict_entity[key])\n",
    "print(length)"
   ]
  },
  {
   "cell_type": "markdown",
   "metadata": {},
   "source": [
    "# Vector 구성 (a~z / 한글)"
   ]
  },
  {
   "cell_type": "code",
   "execution_count": 208,
   "metadata": {
    "collapsed": true
   },
   "outputs": [],
   "source": [
    "char_arr = [c for c in 'SEPabcdefghijklmnopqrstuvwxyz']\n",
    "vocab = (\" $%'()+,-./0123456789:;=?ABCDEFGHIJKLMNOPQRSTUVWXYZ\"\n",
    "           \"\\\\^_abcdefghijklmnopqrstuvwxyz{|}\")"
   ]
  },
  {
   "cell_type": "markdown",
   "metadata": {},
   "source": [
    "# 형태소 분석"
   ]
  },
  {
   "cell_type": "code",
   "execution_count": 209,
   "metadata": {
    "collapsed": false
   },
   "outputs": [
    {
     "data": {
      "text/plain": [
       "[('판교', 'NNG'),\n",
       " ('에', 'JKB'),\n",
       " ('지금', 'MAG'),\n",
       " ('피자', 'NNG'),\n",
       " ('주문', 'NNG'),\n",
       " ('해', 'XSV+EC'),\n",
       " ('줘', 'VX+EC')]"
      ]
     },
     "execution_count": 209,
     "metadata": {},
     "output_type": "execute_result"
    }
   ],
   "source": [
    "from konlpy.tag import Mecab\n",
    "mecab = Mecab('/usr/local/lib/mecab/dic/mecab-ko-dic')\n",
    "morpphed_text = mecab.pos(train_data_order[0])"
   ]
  },
  {
   "cell_type": "markdown",
   "metadata": {
    "collapsed": true
   },
   "source": [
    "# Intent 학습 Data의 구성 \n",
    "\n",
    "- Feature Engineering으로 Intent의 정확도를 높임)"
   ]
  },
  {
   "cell_type": "code",
   "execution_count": null,
   "metadata": {
    "collapsed": true
   },
   "outputs": [],
   "source": [
    "\n",
    "pattern = \"tagloc 에 tagdate tagmenu 주문 해줘\""
   ]
  },
  {
   "cell_type": "markdown",
   "metadata": {
    "collapsed": false
   },
   "source": [
    "# Data augmentation (Entity and Pattern)"
   ]
  },
  {
   "cell_type": "code",
   "execution_count": 203,
   "metadata": {
    "collapsed": false,
    "scrolled": true
   },
   "outputs": [
    {
     "name": "stdout",
     "output_type": "stream",
     "text": [
      "['판교 에 내일 햄버거 주문 해줘 ', '야탑 에 내일 햄버거 주문 해줘 ', '서현 에 내일 햄버거 주문 해줘 ', '판교 에 오늘 햄버거 주문 해줘 ', '야탑 에 오늘 햄버거 주문 해줘 ', '서현 에 오늘 햄버거 주문 해줘 ', '판교 에 모래 햄버거 주문 해줘 ', '야탑 에 모래 햄버거 주문 해줘 ', '서현 에 모래 햄버거 주문 해줘 ', '판교 에 내일 피자 주문 해줘 ', '야탑 에 내일 피자 주문 해줘 ', '서현 에 내일 피자 주문 해줘 ', '판교 에 오늘 피자 주문 해줘 ', '야탑 에 오늘 피자 주문 해줘 ', '서현 에 오늘 피자 주문 해줘 ', '판교 에 모래 피자 주문 해줘 ', '야탑 에 모래 피자 주문 해줘 ', '서현 에 모래 피자 주문 해줘 ', '판교 에 내일 치킨 주문 해줘 ', '야탑 에 내일 치킨 주문 해줘 ', '서현 에 내일 치킨 주문 해줘 ', '판교 에 오늘 치킨 주문 해줘 ', '야탑 에 오늘 치킨 주문 해줘 ', '서현 에 오늘 치킨 주문 해줘 ', '판교 에 모래 치킨 주문 해줘 ', '야탑 에 모래 치킨 주문 해줘 ', '서현 에 모래 치킨 주문 해줘 ']\n",
      "27\n"
     ]
    }
   ],
   "source": [
    "def augmentation_pattern(pattern, dict_entity):\n",
    "    #입력된 패턴을 List로 바꿈\n",
    "    aug_pattern = pattern.split(' ')\n",
    "    #Augment된 Text List\n",
    "    augmented_text_list = []\n",
    "    #copy를 위한 임시 List\n",
    "    temp_aug = []\n",
    "    for i in range(0,len(aug_pattern)):\n",
    "        #Entity에 해당하는 값일 경우 Entity List를 가져옴\n",
    "        if(aug_pattern[i].find(\"tag\") > -1):\n",
    "            dict_list = dict_entity[aug_pattern[i].replace(\"tag\",\"\")]\n",
    "            #각 Entity별로 값을 append하면서 Pattern구성\n",
    "            for j in range(0,len(dict_list)):\n",
    "                #최초 Entity값은 그냥 추가만함\n",
    "                if(i == 0):\n",
    "                    augmented_text_list.append(dict_list[j] + \" \")\n",
    "                elif(j == 1):\n",
    "                    augmented_text_list = list(filter(lambda word:len(word.split(' ')) == i+1 ,augmented_text_list))\n",
    "                    copy_data_order = augmented_text_list * (len(dict_list)-2)\n",
    "                    augmented_text_list = list(map(lambda x:x + dict_list[j] + \" \",augmented_text_list))\n",
    "                    augmented_text_list = augmented_text_list + temp_aug + copy_data_order\n",
    "                else:\n",
    "                    #List의 수를 체크하여 값을 추가\n",
    "                    temp_aug = list(filter(lambda word:len(word.split(' ')) == i+1 ,augmented_text_list))\n",
    "                    temp_aug = list(map(lambda x:x + dict_list[j] + \" \" ,temp_aug))\n",
    "                    #추가된 List를 위해 기존 값 삭제\n",
    "                    if(j != 0):\n",
    "                        augmented_text_list = augmented_text_list[0:len(augmented_text_list) - len(temp_aug)]\n",
    "                    augmented_text_list = augmented_text_list + temp_aug\n",
    "        #Entity추가 대상이 아닐 경우 Pattern만 추가\n",
    "        else:\n",
    "            augmented_text_list = list(map(lambda x:x + aug_pattern[i] + \" \",augmented_text_list))\n",
    "        #N*N으로 증가시키기 위한 List\n",
    "        temp_aug = augmented_text_list\n",
    "\n",
    "    print(augmented_text_list)\n",
    "    print(len(augmented_text_list))\n",
    "\n",
    "augmentation_pattern(pattern, dict_entity)"
   ]
  },
  {
   "cell_type": "code",
   "execution_count": 167,
   "metadata": {
    "collapsed": false
   },
   "outputs": [],
   "source": []
  },
  {
   "cell_type": "code",
   "execution_count": null,
   "metadata": {
    "collapsed": false
   },
   "outputs": [],
   "source": []
  },
  {
   "cell_type": "code",
   "execution_count": null,
   "metadata": {
    "collapsed": true
   },
   "outputs": [],
   "source": []
  },
  {
   "cell_type": "code",
   "execution_count": null,
   "metadata": {
    "collapsed": true
   },
   "outputs": [],
   "source": []
  }
 ],
 "metadata": {
  "anaconda-cloud": {},
  "kernelspec": {
   "display_name": "Python [conda root]",
   "language": "python",
   "name": "conda-root-py"
  },
  "language_info": {
   "codemirror_mode": {
    "name": "ipython",
    "version": 3
   },
   "file_extension": ".py",
   "mimetype": "text/x-python",
   "name": "python",
   "nbconvert_exporter": "python",
   "pygments_lexer": "ipython3",
   "version": "3.5.2"
  }
 },
 "nbformat": 4,
 "nbformat_minor": 1
}
